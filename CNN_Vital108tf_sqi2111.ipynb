{
 "cells": [
  {
   "cell_type": "markdown",
   "metadata": {},
   "source": [
    "# Read STFT figures and use CNN "
   ]
  },
  {
   "cell_type": "markdown",
   "metadata": {},
   "source": [
    "# 1. load data"
   ]
  },
  {
   "cell_type": "code",
   "execution_count": 1,
   "metadata": {},
   "outputs": [
    {
     "name": "stderr",
     "output_type": "stream",
     "text": [
      "Using TensorFlow backend.\n"
     ]
    }
   ],
   "source": [
    "# lib\n",
    "\n",
    "\n",
    "from keras.preprocessing.image import ImageDataGenerator\n",
    "from keras.optimizers import Adam\n",
    "from sklearn.model_selection import train_test_split\n",
    "from keras.preprocessing.image import img_to_array\n",
    "from keras.utils import to_categorical\n",
    "from imutils import paths\n",
    "import matplotlib.pyplot as plt\n",
    "import numpy as np\n",
    "import argparse\n",
    "import random\n",
    "\n",
    "import cv2\n",
    "import os\n",
    "import sys\n",
    "sys.path.append('..')\n",
    "\n"
   ]
  },
  {
   "cell_type": "code",
   "execution_count": 2,
   "metadata": {},
   "outputs": [],
   "source": [
    "CLASS_NUM =2\n",
    "\n",
    "#  Load data, return the data type that has been divided\n",
    "def load_Train2(path):\n",
    "    print(\"[INFO] loading images...\")\n",
    "    data = []\n",
    "    labels = []\n",
    "    # grab the image paths and randomly shuffle them\n",
    "    imagePaths = sorted(list(paths.list_images(path)))\n",
    "    random.seed(42)\n",
    "    #random.shuffle(imagePaths)\n",
    "    \n",
    "    # loop over the input images\n",
    "    for imagePath in imagePaths:\n",
    "        # load the image, pre-process it, and store it in the data list\n",
    "        image = cv2.imread(imagePath)  #Read picture\n",
    "        image = img_to_array(image) #Convert to matrix\n",
    "        data.append(image) #Add at the end\n",
    "\n",
    "        # extract the class label from the image path and update the\n",
    "        # labels list\n",
    "        label = int(imagePath.split(os.path.sep)[-2])     \n",
    "        labels.append(label)  \n",
    "        \n",
    "    # scale the raw pixel intensities to the range [0, 1]\n",
    "    data = np.array(data, dtype=\"float\") / 255.0\n",
    "    labels = np.array(labels)\n",
    "\n",
    "    trainX = data\n",
    "    # convert the labels from integers to vectors\n",
    "    trainY = to_categorical(labels, num_classes=CLASS_NUM)\n",
    "    return trainX,trainY"
   ]
  },
  {
   "cell_type": "code",
   "execution_count": 3,
   "metadata": {},
   "outputs": [],
   "source": [
    "\n",
    "#  Load data, return the data type that has been divided\n",
    "def load_Test(path):\n",
    "    print(\"[INFO] loading images...\")\n",
    "    data = []\n",
    "    labels = []\n",
    "    # grab the image paths and randomly shuffle them\n",
    "    imagePaths = sorted(list(paths.list_images(path)))\n",
    "    random.seed(42)\n",
    "    #random.shuffle(imagePaths)\n",
    "    \n",
    "    # loop over the input images\n",
    "    for imagePath in imagePaths:\n",
    "        # load the image, pre-process it, and store it in the data list\n",
    "        image = cv2.imread(imagePath)  #Read picture\n",
    "        image = img_to_array(image) #Convert to matrix\n",
    "        data.append(image) #Add at the end\n",
    "\n",
    "        # extract the class label from the image path and update the\n",
    "        # labels list\n",
    "        label = int(imagePath.split(os.path.sep)[-2])     \n",
    "        labels.append(label)  \n",
    "        \n",
    "    # scale the raw pixel intensities to the range [0, 1]\n",
    "    data = np.array(data, dtype=\"float\") / 255.0\n",
    "    labels = np.array(labels)\n",
    "\n",
    "    trainX = data\n",
    "    # convert the labels from integers to vectors\n",
    "    trainY = to_categorical(labels, num_classes=CLASS_NUM)\n",
    "    return trainX,trainY"
   ]
  },
  {
   "cell_type": "code",
   "execution_count": 4,
   "metadata": {
    "scrolled": true
   },
   "outputs": [
    {
     "name": "stdout",
     "output_type": "stream",
     "text": [
      "[INFO] loading images...\n"
     ]
    }
   ],
   "source": [
    "\n",
    "# tarin data \n",
    "path1 = \"D:\\Work\\Simit\\Matlab Pulse\\SQI_GUI_vital_PPGECG600s\\TF\\Train108_seq1\"\n",
    "train_X, train_y = load_Train2(path1)\n",
    "\n"
   ]
  },
  {
   "cell_type": "code",
   "execution_count": 5,
   "metadata": {},
   "outputs": [
    {
     "name": "stdout",
     "output_type": "stream",
     "text": [
      "[INFO] loading images...\n"
     ]
    }
   ],
   "source": [
    "# test data\n",
    "path2 = \"D:\\Work\\Simit\\Matlab Pulse\\SQI_GUI_vital_PPGECG600s\\TF\\Test108_seq\"\n",
    "test_X, test_y = load_Test(path2)\n"
   ]
  },
  {
   "cell_type": "code",
   "execution_count": 6,
   "metadata": {},
   "outputs": [
    {
     "name": "stdout",
     "output_type": "stream",
     "text": [
      "(4673, 250, 334, 3)\n",
      "(4673, 2)\n",
      "(1131, 250, 334, 3)\n",
      "(1131, 2)\n"
     ]
    }
   ],
   "source": [
    "print(train_X.shape)\n",
    "print(train_y.shape)\n",
    "print(test_X.shape)\n",
    "print(test_y.shape)"
   ]
  },
  {
   "cell_type": "code",
   "execution_count": 7,
   "metadata": {},
   "outputs": [
    {
     "name": "stdout",
     "output_type": "stream",
     "text": [
      "5804\n"
     ]
    }
   ],
   "source": [
    "print(train_X.shape[0] + test_X.shape[0])"
   ]
  },
  {
   "cell_type": "code",
   "execution_count": 8,
   "metadata": {},
   "outputs": [
    {
     "data": {
      "text/plain": [
       "array([[1., 0.],\n",
       "       [1., 0.],\n",
       "       [1., 0.],\n",
       "       ...,\n",
       "       [0., 1.],\n",
       "       [0., 1.],\n",
       "       [0., 1.]], dtype=float32)"
      ]
     },
     "execution_count": 8,
     "metadata": {},
     "output_type": "execute_result"
    }
   ],
   "source": [
    "test_y"
   ]
  },
  {
   "cell_type": "code",
   "execution_count": 9,
   "metadata": {},
   "outputs": [
    {
     "name": "stdout",
     "output_type": "stream",
     "text": [
      "[0 0 0 ... 1 1 1]\n"
     ]
    }
   ],
   "source": [
    "# Return from one hot code to normal code\n",
    "test_y_num = np.argmax(test_y, axis=1)\n",
    "print(test_y_num)"
   ]
  },
  {
   "cell_type": "code",
   "execution_count": 10,
   "metadata": {
    "scrolled": false
   },
   "outputs": [
    {
     "data": {
      "image/png": "[encoded data removed]",
      "text/plain": [
       "<Figure size 432x288 with 1 Axes>"
      ]
     },
     "metadata": {
      "needs_background": "light"
     },
     "output_type": "display_data"
    }
   ],
   "source": [
    "# https://www.cnblogs.com/LiErRui/articles/11588399.html\n",
    "def Histogram_test(x):\n",
    "    plt.hist(x, # 指定绘图数据\n",
    "             bins = 20, # 指定直方图中条块的个数\n",
    "             color = 'steelblue', # 指定直方图的填充色\n",
    "             edgecolor = 'black' # 指定直方图的边框色\n",
    "             )\n",
    "     # 添加x轴和y轴标签\n",
    "    plt.xlabel('label')\n",
    "    plt.ylabel('Frequency')\n",
    "    # 添加标题\n",
    "    plt.title('Test distribution')\n",
    "    # 显示图形\n",
    "    plt.show()\n",
    "\n",
    "Histogram_test(test_y_num) "
   ]
  },
  {
   "cell_type": "code",
   "execution_count": 11,
   "metadata": {},
   "outputs": [],
   "source": [
    "def Histogram_train(x):\n",
    "    plt.hist(x, # 指定绘图数据\n",
    "             bins = 20, # 指定直方图中条块的个数\n",
    "             color = 'steelblue', # 指定直方图的填充色\n",
    "             edgecolor = 'black' # 指定直方图的边框色\n",
    "             )\n",
    "     # 添加x轴和y轴标签\n",
    "    plt.xlabel('label')\n",
    "    plt.ylabel('Frequency')\n",
    "    # 添加标题\n",
    "    plt.title('Train distribution')\n",
    "    # 显示图形\n",
    "    plt.show()\n"
   ]
  },
  {
   "cell_type": "code",
   "execution_count": 12,
   "metadata": {
    "scrolled": true
   },
   "outputs": [
    {
     "data": {
      "image/png": "[encoded data removed]",
      "text/plain": [
       "<Figure size 432x288 with 1 Axes>"
      ]
     },
     "metadata": {
      "needs_background": "light"
     },
     "output_type": "display_data"
    }
   ],
   "source": [
    "# Return from one hot code to normal code\n",
    "train_y_num = np.argmax(train_y, axis=1)\n",
    "Histogram_train(train_y_num) "
   ]
  },
  {
   "cell_type": "markdown",
   "metadata": {},
   "source": [
    "# 2. CNN"
   ]
  },
  {
   "cell_type": "code",
   "execution_count": 13,
   "metadata": {},
   "outputs": [
    {
     "name": "stdout",
     "output_type": "stream",
     "text": [
      "WARNING:tensorflow:From D:\\Python\\Anaconda3\\lib\\site-packages\\tensorflow_core\\python\\ops\\resource_variable_ops.py:1630: calling BaseResourceVariable.__init__ (from tensorflow.python.ops.resource_variable_ops) with constraint is deprecated and will be removed in a future version.\n",
      "Instructions for updating:\n",
      "If using Keras pass *_constraint arguments to layers.\n",
      "WARNING:tensorflow:From D:\\Python\\Anaconda3\\lib\\site-packages\\keras\\backend\\tensorflow_backend.py:4070: The name tf.nn.max_pool is deprecated. Please use tf.nn.max_pool2d instead.\n",
      "\n",
      "Model: \"sequential_1\"\n",
      "_________________________________________________________________\n",
      "Layer (type)                 Output Shape              Param #   \n",
      "=================================================================\n",
      "conv2d_1 (Conv2D)            (None, 250, 334, 30)      2280      \n",
      "_________________________________________________________________\n",
      "max_pooling2d_1 (MaxPooling2 (None, 83, 111, 30)       0         \n",
      "_________________________________________________________________\n",
      "conv2d_2 (Conv2D)            (None, 83, 111, 30)       22530     \n",
      "_________________________________________________________________\n",
      "max_pooling2d_2 (MaxPooling2 (None, 41, 55, 30)        0         \n",
      "_________________________________________________________________\n",
      "conv2d_3 (Conv2D)            (None, 41, 55, 30)        22530     \n",
      "_________________________________________________________________\n",
      "max_pooling2d_3 (MaxPooling2 (None, 20, 27, 30)        0         \n",
      "_________________________________________________________________\n",
      "conv2d_4 (Conv2D)            (None, 20, 27, 30)        22530     \n",
      "_________________________________________________________________\n",
      "max_pooling2d_4 (MaxPooling2 (None, 10, 13, 30)        0         \n",
      "_________________________________________________________________\n",
      "conv2d_5 (Conv2D)            (None, 10, 13, 30)        22530     \n",
      "_________________________________________________________________\n",
      "max_pooling2d_5 (MaxPooling2 (None, 5, 6, 30)          0         \n",
      "_________________________________________________________________\n",
      "flatten_1 (Flatten)          (None, 900)               0         \n",
      "_________________________________________________________________\n",
      "dense_1 (Dense)              (None, 30)                27030     \n",
      "_________________________________________________________________\n",
      "dropout_1 (Dropout)          (None, 30)                0         \n",
      "_________________________________________________________________\n",
      "dense_2 (Dense)              (None, 20)                620       \n",
      "_________________________________________________________________\n",
      "dense_3 (Dense)              (None, 1)                 21        \n",
      "=================================================================\n",
      "Total params: 120,071\n",
      "Trainable params: 120,071\n",
      "Non-trainable params: 0\n",
      "_________________________________________________________________\n",
      "WARNING:tensorflow:From D:\\Python\\Anaconda3\\lib\\site-packages\\tensorflow_core\\python\\ops\\nn_impl.py:183: where (from tensorflow.python.ops.array_ops) is deprecated and will be removed in a future version.\n",
      "Instructions for updating:\n",
      "Use tf.where in 2.0, which has the same broadcast rule as np.where\n"
     ]
    }
   ],
   "source": [
    "from keras.datasets import mnist\n",
    "from keras.utils import to_categorical\n",
    "import tensorflow as tf\n",
    "import keras\n",
    "from keras.optimizers import Adam\n",
    "\n",
    "# GPU \n",
    "# Dynamic application for video memory\n",
    "\n",
    "config = tf.ConfigProto()\n",
    "config.gpu_options.allow_growth = True\n",
    "keras.backend.tensorflow_backend.set_session(tf.Session(config=config))\n",
    "\n",
    "\n",
    "from keras.models import Sequential\n",
    "from keras.layers import Conv2D, MaxPool2D, Flatten, Dropout, Dense\n",
    "from keras.losses import binary_crossentropy\n",
    "from keras.optimizers import Adadelta\n",
    "\n",
    "model = Sequential()\n",
    "\n",
    "model.add(Conv2D(30, (5,5), activation='relu',strides=1,padding='same',input_shape=[train_X.shape[1], train_X.shape[2], 3]))\n",
    "model.add(MaxPool2D(pool_size=(3,3)))\n",
    "model.add(Conv2D(30, (5,5), activation='relu',strides=1,padding='same'))\n",
    "model.add(MaxPool2D(pool_size=(2,2)))\n",
    "model.add(Conv2D(30, (5,5), activation='relu',strides=1,padding='same'))\n",
    "model.add(MaxPool2D(pool_size=(2,2)))\n",
    "model.add(Conv2D(30, (5,5), activation='relu',strides=1,padding='same'))\n",
    "model.add(MaxPool2D(pool_size=(2,2)))\n",
    "model.add(Conv2D(30, (5,5), activation='relu',strides=1,padding='same'))\n",
    "model.add(MaxPool2D(pool_size=(2,2)))\n",
    "model.add(Flatten())\n",
    "\n",
    "model.add(Dense(30, activation='relu'))\n",
    "model.add(Dropout(0.5))\n",
    "model.add(Dense(20, activation='relu'))\n",
    "model.add(Dense(1, activation='sigmoid'))\n",
    "model.summary()\n",
    "# compile\n",
    "model.compile(loss = binary_crossentropy, #categorical_crossentropy,\n",
    "             optimizer=Adam(lr = 0.00005),\n",
    "             metrics=['accuracy'])"
   ]
  },
  {
   "cell_type": "markdown",
   "metadata": {},
   "source": [
    "# Train"
   ]
  },
  {
   "cell_type": "code",
   "execution_count": 14,
   "metadata": {
    "scrolled": false
   },
   "outputs": [
    {
     "name": "stdout",
     "output_type": "stream",
     "text": [
      "WARNING:tensorflow:From D:\\Python\\Anaconda3\\lib\\site-packages\\keras\\backend\\tensorflow_backend.py:422: The name tf.global_variables is deprecated. Please use tf.compat.v1.global_variables instead.\n",
      "\n",
      "Train on 4673 samples, validate on 1131 samples\n",
      "Epoch 1/90\n",
      "4673/4673 [==============================] - 30s 6ms/step - loss: 0.6342 - accuracy: 0.6328 - val_loss: 0.4139 - val_accuracy: 0.8700\n",
      "Epoch 2/90\n",
      "4673/4673 [==============================] - 23s 5ms/step - loss: 0.3769 - accuracy: 0.8301 - val_loss: 0.2362 - val_accuracy: 0.9222\n",
      "Epoch 3/90\n",
      "4673/4673 [==============================] - 23s 5ms/step - loss: 0.3165 - accuracy: 0.8814 - val_loss: 0.2197 - val_accuracy: 0.9337\n",
      "Epoch 4/90\n",
      "4673/4673 [==============================] - 24s 5ms/step - loss: 0.2936 - accuracy: 0.8919 - val_loss: 0.2307 - val_accuracy: 0.9372\n",
      "Epoch 5/90\n",
      "4673/4673 [==============================] - 23s 5ms/step - loss: 0.2620 - accuracy: 0.9035 - val_loss: 0.2318 - val_accuracy: 0.9107\n",
      "Epoch 6/90\n",
      "4673/4673 [==============================] - 23s 5ms/step - loss: 0.2614 - accuracy: 0.9069 - val_loss: 0.2361 - val_accuracy: 0.9363\n",
      "Epoch 7/90\n",
      "4673/4673 [==============================] - 23s 5ms/step - loss: 0.2378 - accuracy: 0.9155 - val_loss: 0.1935 - val_accuracy: 0.9328\n",
      "Epoch 8/90\n",
      "4673/4673 [==============================] - 23s 5ms/step - loss: 0.2290 - accuracy: 0.9172 - val_loss: 0.2109 - val_accuracy: 0.9107\n",
      "Epoch 9/90\n",
      "4673/4673 [==============================] - 23s 5ms/step - loss: 0.2231 - accuracy: 0.9185 - val_loss: 0.1854 - val_accuracy: 0.9355\n",
      "Epoch 10/90\n",
      "4673/4673 [==============================] - 24s 5ms/step - loss: 0.2157 - accuracy: 0.9249 - val_loss: 0.1696 - val_accuracy: 0.9399\n",
      "Epoch 11/90\n",
      "4673/4673 [==============================] - 23s 5ms/step - loss: 0.2173 - accuracy: 0.9251 - val_loss: 0.2002 - val_accuracy: 0.9169\n",
      "Epoch 12/90\n",
      "4673/4673 [==============================] - 23s 5ms/step - loss: 0.2409 - accuracy: 0.9161 - val_loss: 0.1866 - val_accuracy: 0.9443\n",
      "Epoch 13/90\n",
      "4673/4673 [==============================] - 23s 5ms/step - loss: 0.2002 - accuracy: 0.9272 - val_loss: 0.1586 - val_accuracy: 0.9478\n",
      "Epoch 14/90\n",
      "4673/4673 [==============================] - 23s 5ms/step - loss: 0.1992 - accuracy: 0.9296 - val_loss: 0.1705 - val_accuracy: 0.9487\n",
      "Epoch 15/90\n",
      "4673/4673 [==============================] - 24s 5ms/step - loss: 0.1913 - accuracy: 0.9322 - val_loss: 0.1626 - val_accuracy: 0.9620\n",
      "Epoch 16/90\n",
      "4673/4673 [==============================] - 26s 6ms/step - loss: 0.1880 - accuracy: 0.9326 - val_loss: 0.1724 - val_accuracy: 0.9328\n",
      "Epoch 17/90\n",
      "4673/4673 [==============================] - 26s 5ms/step - loss: 0.1814 - accuracy: 0.9382 - val_loss: 0.1533 - val_accuracy: 0.9558\n",
      "Epoch 18/90\n",
      "4673/4673 [==============================] - 24s 5ms/step - loss: 0.1876 - accuracy: 0.9362 - val_loss: 0.1560 - val_accuracy: 0.9461\n",
      "Epoch 19/90\n",
      "4673/4673 [==============================] - 24s 5ms/step - loss: 0.2070 - accuracy: 0.9298 - val_loss: 0.1593 - val_accuracy: 0.9549\n",
      "Epoch 20/90\n",
      "4673/4673 [==============================] - 23s 5ms/step - loss: 0.1821 - accuracy: 0.9375 - val_loss: 0.1529 - val_accuracy: 0.9523\n",
      "Epoch 21/90\n",
      "4673/4673 [==============================] - 24s 5ms/step - loss: 0.1748 - accuracy: 0.9401 - val_loss: 0.1420 - val_accuracy: 0.9611\n",
      "Epoch 22/90\n",
      "4673/4673 [==============================] - 24s 5ms/step - loss: 0.1735 - accuracy: 0.9375 - val_loss: 0.1472 - val_accuracy: 0.9576\n",
      "Epoch 23/90\n",
      "4673/4673 [==============================] - 23s 5ms/step - loss: 0.1727 - accuracy: 0.9386 - val_loss: 0.1424 - val_accuracy: 0.9584\n",
      "Epoch 24/90\n",
      "4673/4673 [==============================] - 24s 5ms/step - loss: 0.1697 - accuracy: 0.9394 - val_loss: 0.1687 - val_accuracy: 0.9487\n",
      "Epoch 25/90\n",
      "4673/4673 [==============================] - 25s 5ms/step - loss: 0.1725 - accuracy: 0.9394 - val_loss: 0.1319 - val_accuracy: 0.9540\n",
      "Epoch 26/90\n",
      "4673/4673 [==============================] - 24s 5ms/step - loss: 0.1690 - accuracy: 0.9429 - val_loss: 0.1338 - val_accuracy: 0.9602\n",
      "Epoch 27/90\n",
      "4673/4673 [==============================] - 24s 5ms/step - loss: 0.1669 - accuracy: 0.9382 - val_loss: 0.1281 - val_accuracy: 0.9584\n",
      "Epoch 28/90\n",
      "4673/4673 [==============================] - 26s 5ms/step - loss: 0.1678 - accuracy: 0.9426 - val_loss: 0.1443 - val_accuracy: 0.9478\n",
      "Epoch 29/90\n",
      "4673/4673 [==============================] - 25s 5ms/step - loss: 0.1528 - accuracy: 0.9467 - val_loss: 0.1100 - val_accuracy: 0.9620\n",
      "Epoch 30/90\n",
      "4673/4673 [==============================] - 25s 5ms/step - loss: 0.1571 - accuracy: 0.9482 - val_loss: 0.1259 - val_accuracy: 0.9567\n",
      "Epoch 31/90\n",
      "4673/4673 [==============================] - 24s 5ms/step - loss: 0.1576 - accuracy: 0.9435 - val_loss: 0.1553 - val_accuracy: 0.9682\n",
      "Epoch 32/90\n",
      "4673/4673 [==============================] - 25s 5ms/step - loss: 0.1567 - accuracy: 0.9416 - val_loss: 0.1174 - val_accuracy: 0.9558\n",
      "Epoch 33/90\n",
      "4673/4673 [==============================] - 25s 5ms/step - loss: 0.1534 - accuracy: 0.9459 - val_loss: 0.1228 - val_accuracy: 0.9691\n",
      "Epoch 34/90\n",
      "4673/4673 [==============================] - 24s 5ms/step - loss: 0.1493 - accuracy: 0.9465 - val_loss: 0.1221 - val_accuracy: 0.9699\n",
      "Epoch 35/90\n",
      "4673/4673 [==============================] - 24s 5ms/step - loss: 0.1458 - accuracy: 0.9480 - val_loss: 0.1266 - val_accuracy: 0.9717\n",
      "Epoch 36/90\n",
      "4673/4673 [==============================] - 23s 5ms/step - loss: 0.1438 - accuracy: 0.9486 - val_loss: 0.0921 - val_accuracy: 0.9699\n",
      "Epoch 37/90\n",
      "4673/4673 [==============================] - 25s 5ms/step - loss: 0.1443 - accuracy: 0.9480 - val_loss: 0.0959 - val_accuracy: 0.9708\n",
      "Epoch 38/90\n",
      "4673/4673 [==============================] - 24s 5ms/step - loss: 0.1392 - accuracy: 0.9508 - val_loss: 0.0846 - val_accuracy: 0.9779\n",
      "Epoch 39/90\n",
      "4673/4673 [==============================] - 24s 5ms/step - loss: 0.1383 - accuracy: 0.9514 - val_loss: 0.1055 - val_accuracy: 0.9593\n",
      "Epoch 40/90\n",
      "4673/4673 [==============================] - 24s 5ms/step - loss: 0.1462 - accuracy: 0.9474 - val_loss: 0.0930 - val_accuracy: 0.9779\n",
      "Epoch 41/90\n",
      "4673/4673 [==============================] - 24s 5ms/step - loss: 0.1328 - accuracy: 0.9527 - val_loss: 0.1139 - val_accuracy: 0.9788\n",
      "Epoch 42/90\n",
      "4673/4673 [==============================] - 25s 5ms/step - loss: 0.1325 - accuracy: 0.9504 - val_loss: 0.0823 - val_accuracy: 0.9770\n",
      "Epoch 43/90\n",
      "4673/4673 [==============================] - 25s 5ms/step - loss: 0.1281 - accuracy: 0.9525 - val_loss: 0.0762 - val_accuracy: 0.9797\n",
      "Epoch 44/90\n",
      "4673/4673 [==============================] - 25s 5ms/step - loss: 0.1259 - accuracy: 0.9561 - val_loss: 0.0711 - val_accuracy: 0.9841\n",
      "Epoch 45/90\n",
      "4673/4673 [==============================] - 23s 5ms/step - loss: 0.1197 - accuracy: 0.9553 - val_loss: 0.0745 - val_accuracy: 0.9788\n",
      "Epoch 46/90\n",
      "4673/4673 [==============================] - 23s 5ms/step - loss: 0.1176 - accuracy: 0.9529 - val_loss: 0.0674 - val_accuracy: 0.9823\n",
      "Epoch 47/90\n",
      "4673/4673 [==============================] - 24s 5ms/step - loss: 0.1173 - accuracy: 0.9585 - val_loss: 0.0746 - val_accuracy: 0.9770\n",
      "Epoch 48/90\n",
      "4673/4673 [==============================] - 24s 5ms/step - loss: 0.1136 - accuracy: 0.9589 - val_loss: 0.0654 - val_accuracy: 0.9876\n",
      "Epoch 49/90\n",
      "4673/4673 [==============================] - 23s 5ms/step - loss: 0.1145 - accuracy: 0.9587 - val_loss: 0.0681 - val_accuracy: 0.9876\n",
      "Epoch 50/90\n",
      "4673/4673 [==============================] - 24s 5ms/step - loss: 0.1089 - accuracy: 0.9647 - val_loss: 0.0586 - val_accuracy: 0.9823\n",
      "Epoch 51/90\n",
      "4673/4673 [==============================] - 25s 5ms/step - loss: 0.1078 - accuracy: 0.9636 - val_loss: 0.0714 - val_accuracy: 0.9744\n",
      "Epoch 52/90\n",
      "4673/4673 [==============================] - 24s 5ms/step - loss: 0.1044 - accuracy: 0.9598 - val_loss: 0.0654 - val_accuracy: 0.9832\n",
      "Epoch 53/90\n",
      "4673/4673 [==============================] - 25s 5ms/step - loss: 0.1026 - accuracy: 0.9645 - val_loss: 0.0574 - val_accuracy: 0.9850\n",
      "Epoch 54/90\n",
      "4673/4673 [==============================] - 25s 5ms/step - loss: 0.1007 - accuracy: 0.9640 - val_loss: 0.0614 - val_accuracy: 0.9903\n",
      "Epoch 55/90\n"
     ]
    },
    {
     "name": "stdout",
     "output_type": "stream",
     "text": [
      "4673/4673 [==============================] - 24s 5ms/step - loss: 0.1108 - accuracy: 0.9651 - val_loss: 0.0559 - val_accuracy: 0.9876\n",
      "Epoch 56/90\n",
      "4673/4673 [==============================] - 24s 5ms/step - loss: 0.0947 - accuracy: 0.9655 - val_loss: 0.0531 - val_accuracy: 0.9885\n",
      "Epoch 57/90\n",
      "4673/4673 [==============================] - 24s 5ms/step - loss: 0.0940 - accuracy: 0.9666 - val_loss: 0.0622 - val_accuracy: 0.9797\n",
      "Epoch 58/90\n",
      "4673/4673 [==============================] - 24s 5ms/step - loss: 0.0889 - accuracy: 0.9668 - val_loss: 0.0443 - val_accuracy: 0.9867\n",
      "Epoch 59/90\n",
      "4673/4673 [==============================] - 23s 5ms/step - loss: 0.0922 - accuracy: 0.9679 - val_loss: 0.0543 - val_accuracy: 0.9867\n",
      "Epoch 60/90\n",
      "4673/4673 [==============================] - 24s 5ms/step - loss: 0.0897 - accuracy: 0.9668 - val_loss: 0.0510 - val_accuracy: 0.9841\n",
      "Epoch 61/90\n",
      "4673/4673 [==============================] - 24s 5ms/step - loss: 0.0873 - accuracy: 0.9681 - val_loss: 0.0462 - val_accuracy: 0.9876\n",
      "Epoch 62/90\n",
      "4673/4673 [==============================] - 24s 5ms/step - loss: 0.0854 - accuracy: 0.9685 - val_loss: 0.0613 - val_accuracy: 0.9797\n",
      "Epoch 63/90\n",
      "4673/4673 [==============================] - 23s 5ms/step - loss: 0.0851 - accuracy: 0.9668 - val_loss: 0.0686 - val_accuracy: 0.9770\n",
      "Epoch 64/90\n",
      "4673/4673 [==============================] - 23s 5ms/step - loss: 0.1351 - accuracy: 0.9533 - val_loss: 0.0826 - val_accuracy: 0.9744\n",
      "Epoch 65/90\n",
      "4673/4673 [==============================] - 23s 5ms/step - loss: 0.0954 - accuracy: 0.9649 - val_loss: 0.0574 - val_accuracy: 0.9832\n",
      "Epoch 66/90\n",
      "4673/4673 [==============================] - 23s 5ms/step - loss: 0.0905 - accuracy: 0.9685 - val_loss: 0.0526 - val_accuracy: 0.9867\n",
      "Epoch 67/90\n",
      "4673/4673 [==============================] - 23s 5ms/step - loss: 0.0847 - accuracy: 0.9683 - val_loss: 0.0572 - val_accuracy: 0.9805\n",
      "Epoch 68/90\n",
      "4673/4673 [==============================] - 24s 5ms/step - loss: 0.0816 - accuracy: 0.9715 - val_loss: 0.0719 - val_accuracy: 0.9752\n",
      "Epoch 69/90\n",
      "4673/4673 [==============================] - 23s 5ms/step - loss: 0.0780 - accuracy: 0.9718 - val_loss: 0.0523 - val_accuracy: 0.9894\n",
      "Epoch 70/90\n",
      "4673/4673 [==============================] - 23s 5ms/step - loss: 0.0771 - accuracy: 0.9722 - val_loss: 0.0567 - val_accuracy: 0.9814\n",
      "Epoch 71/90\n",
      "4673/4673 [==============================] - 23s 5ms/step - loss: 0.0811 - accuracy: 0.9670 - val_loss: 0.0500 - val_accuracy: 0.9859\n",
      "Epoch 72/90\n",
      "4673/4673 [==============================] - 23s 5ms/step - loss: 0.0733 - accuracy: 0.9741 - val_loss: 0.0475 - val_accuracy: 0.9876\n",
      "Epoch 73/90\n",
      "4673/4673 [==============================] - 23s 5ms/step - loss: 0.0780 - accuracy: 0.9724 - val_loss: 0.0526 - val_accuracy: 0.9867\n",
      "Epoch 74/90\n",
      "4673/4673 [==============================] - 23s 5ms/step - loss: 0.0755 - accuracy: 0.9728 - val_loss: 0.0528 - val_accuracy: 0.9876\n",
      "Epoch 75/90\n",
      "4673/4673 [==============================] - 23s 5ms/step - loss: 0.0781 - accuracy: 0.9722 - val_loss: 0.0427 - val_accuracy: 0.9876\n",
      "Epoch 76/90\n",
      "4673/4673 [==============================] - 23s 5ms/step - loss: 0.0759 - accuracy: 0.9703 - val_loss: 0.0501 - val_accuracy: 0.9832\n",
      "Epoch 77/90\n",
      "4673/4673 [==============================] - 23s 5ms/step - loss: 0.0774 - accuracy: 0.9728 - val_loss: 0.0774 - val_accuracy: 0.9770\n",
      "Epoch 78/90\n",
      "4673/4673 [==============================] - 23s 5ms/step - loss: 0.0704 - accuracy: 0.9735 - val_loss: 0.0662 - val_accuracy: 0.9779\n",
      "Epoch 79/90\n",
      "4673/4673 [==============================] - 23s 5ms/step - loss: 0.0664 - accuracy: 0.9747 - val_loss: 0.0500 - val_accuracy: 0.9823\n",
      "Epoch 80/90\n",
      "4673/4673 [==============================] - 24s 5ms/step - loss: 0.0666 - accuracy: 0.9758 - val_loss: 0.0483 - val_accuracy: 0.9867\n",
      "Epoch 81/90\n",
      "4673/4673 [==============================] - 23s 5ms/step - loss: 0.0696 - accuracy: 0.9758 - val_loss: 0.0449 - val_accuracy: 0.9885\n",
      "Epoch 82/90\n",
      "4673/4673 [==============================] - 23s 5ms/step - loss: 0.0653 - accuracy: 0.9754 - val_loss: 0.0434 - val_accuracy: 0.9867\n",
      "Epoch 83/90\n",
      "4673/4673 [==============================] - 24s 5ms/step - loss: 0.0731 - accuracy: 0.9724 - val_loss: 0.0515 - val_accuracy: 0.9823\n",
      "Epoch 84/90\n",
      "4673/4673 [==============================] - 23s 5ms/step - loss: 0.0678 - accuracy: 0.9771 - val_loss: 0.0478 - val_accuracy: 0.9876\n",
      "Epoch 85/90\n",
      "4673/4673 [==============================] - 23s 5ms/step - loss: 0.0646 - accuracy: 0.9767 - val_loss: 0.0480 - val_accuracy: 0.9823\n",
      "Epoch 86/90\n",
      "4673/4673 [==============================] - 23s 5ms/step - loss: 0.0630 - accuracy: 0.9754 - val_loss: 0.0459 - val_accuracy: 0.9832\n",
      "Epoch 87/90\n",
      "4673/4673 [==============================] - 23s 5ms/step - loss: 0.0692 - accuracy: 0.9722 - val_loss: 0.0447 - val_accuracy: 0.9885\n",
      "Epoch 88/90\n",
      "4673/4673 [==============================] - 23s 5ms/step - loss: 0.0618 - accuracy: 0.9784 - val_loss: 0.0590 - val_accuracy: 0.9814\n",
      "Epoch 89/90\n",
      "4673/4673 [==============================] - 23s 5ms/step - loss: 0.0625 - accuracy: 0.9792 - val_loss: 0.0444 - val_accuracy: 0.9859\n",
      "Epoch 90/90\n",
      "4673/4673 [==============================] - 23s 5ms/step - loss: 0.0626 - accuracy: 0.9797 - val_loss: 0.0461 - val_accuracy: 0.9823\n"
     ]
    }
   ],
   "source": [
    "batch_size = 32\n",
    "epochs = 90\n",
    "\n",
    "train_history = model.fit(train_X,train_y_num,validation_data=(test_X,test_y_num),batch_size=batch_size,epochs=epochs)"
   ]
  },
  {
   "cell_type": "markdown",
   "metadata": {},
   "source": [
    "# 3. Test Results"
   ]
  },
  {
   "cell_type": "code",
   "execution_count": 15,
   "metadata": {},
   "outputs": [
    {
     "name": "stdout",
     "output_type": "stream",
     "text": [
      "1131/1131 [==============================] - 3s 3ms/step\n",
      "loss:0.0461 accuracy:0.9823\n"
     ]
    }
   ],
   "source": [
    "loss, accuracy = model.evaluate(test_X, test_y_num, verbose=1)\n",
    "print('loss:%.4f accuracy:%.4f' %(loss, accuracy))"
   ]
  },
  {
   "cell_type": "code",
   "execution_count": 16,
   "metadata": {},
   "outputs": [
    {
     "name": "stdout",
     "output_type": "stream",
     "text": [
      "4673/4673 [==============================] - 15s 3ms/step\n",
      "loss:0.0434 accuracy:0.9861\n"
     ]
    }
   ],
   "source": [
    "loss, accuracy = model.evaluate(train_X, train_y_num, verbose=1)\n",
    "print('loss:%.4f accuracy:%.4f' %(loss, accuracy))"
   ]
  },
  {
   "cell_type": "markdown",
   "metadata": {},
   "source": [
    "# 4. plot accuracy"
   ]
  },
  {
   "cell_type": "code",
   "execution_count": 17,
   "metadata": {},
   "outputs": [
    {
     "data": {
      "image/png": "[encoded data removed]",
      "text/plain": [
       "<Figure size 432x288 with 1 Axes>"
      ]
     },
     "metadata": {
      "needs_background": "light"
     },
     "output_type": "display_data"
    }
   ],
   "source": [
    "import matplotlib.pyplot as plt\n",
    "def show_train_acc(train_history,train_acc):\n",
    "    plt.plot(train_history.history[train_acc])\n",
    "    plt.title('Accuracy')\n",
    "    plt.ylabel('Accuracy')\n",
    "    plt.xlabel('Epoch')\n",
    "    plt.legend(['train_acc'], loc='upper left')\n",
    "    plt.show()\n",
    "    \n",
    "show_train_acc(train_history,'accuracy')"
   ]
  },
  {
   "cell_type": "code",
   "execution_count": 18,
   "metadata": {},
   "outputs": [
    {
     "name": "stdout",
     "output_type": "stream",
     "text": [
      "[0.63278407 0.8300877  0.8814466  0.89193237 0.9034881  0.906912\n",
      " 0.91547185 0.9171838  0.9184678  0.92488766 0.92510164 0.91611385\n",
      " 0.9272416  0.92959553 0.9321635  0.9325915  0.93815535 0.9362294\n",
      " 0.9298096  0.93751335 0.9400813  0.93751335 0.9385834  0.93943936\n",
      " 0.93943936 0.9428633  0.93815535 0.94264925 0.9467152  0.94821316\n",
      " 0.9435052  0.9415793  0.9458592  0.9465012  0.9479991  0.9486411\n",
      " 0.9479991  0.9507811  0.95142305 0.9473572  0.95270705 0.9503531\n",
      " 0.9524931  0.956131   0.955275   0.95292103 0.9584849  0.9589129\n",
      " 0.9586989  0.9646908  0.9636208  0.9597689  0.96447676 0.9640488\n",
      " 0.96511877 0.9655468  0.96661675 0.96683073 0.9679007  0.96683073\n",
      " 0.9681147  0.9685427  0.96683073 0.95334905 0.9649048  0.9685427\n",
      " 0.9683287  0.9715386  0.97175264 0.9721806  0.9670447  0.97410655\n",
      " 0.9723946  0.9728226  0.9721806  0.97025466 0.9728226  0.9734646\n",
      " 0.97474855 0.9758185  0.9758185  0.97539055 0.9723946  0.9771025\n",
      " 0.9766745  0.97539055 0.9721806  0.97838646 0.97924244 0.97967046]\n"
     ]
    }
   ],
   "source": [
    "print(np.asarray(train_history.history['accuracy']))"
   ]
  },
  {
   "cell_type": "code",
   "execution_count": 19,
   "metadata": {
    "scrolled": true
   },
   "outputs": [
    {
     "data": {
      "image/png": "[encoded data removed]",
      "text/plain": [
       "<Figure size 432x288 with 1 Axes>"
      ]
     },
     "metadata": {
      "needs_background": "light"
     },
     "output_type": "display_data"
    }
   ],
   "source": [
    "import matplotlib.pyplot as plt\n",
    "def show_train_acc(train_history,train_acc):\n",
    "    plt.plot(train_history.history[train_acc])\n",
    "    plt.title('val_accuracy')\n",
    "    plt.ylabel('Accuracy')\n",
    "    plt.xlabel('Epoch')\n",
    "    plt.legend(['val_acc'], loc='upper left')\n",
    "    plt.show()\n",
    "    \n",
    "show_train_acc(train_history,'val_accuracy')"
   ]
  },
  {
   "cell_type": "code",
   "execution_count": 20,
   "metadata": {},
   "outputs": [
    {
     "name": "stdout",
     "output_type": "stream",
     "text": [
      "[0.87002653 0.92219275 0.93368703 0.93722367 0.91069847 0.9363395\n",
      " 0.93280286 0.91069847 0.93545532 0.9398762  0.9168877  0.94429708\n",
      " 0.94783378 0.94871795 0.96198052 0.93280286 0.95579135 0.94606543\n",
      " 0.95490718 0.95225465 0.96109635 0.9575597  0.95844388 0.94871795\n",
      " 0.954023   0.96021223 0.95844388 0.94783378 0.96198052 0.95667553\n",
      " 0.96816975 0.95579135 0.96905392 0.9699381  0.97170645 0.9699381\n",
      " 0.97082227 0.97789568 0.95932806 0.97789568 0.97877985 0.9770115\n",
      " 0.97966403 0.9840849  0.97877985 0.98231655 0.9770115  0.98762155\n",
      " 0.98762155 0.98231655 0.97435898 0.98320073 0.98496908 0.99027407\n",
      " 0.98762155 0.98850572 0.97966403 0.98673743 0.98673743 0.9840849\n",
      " 0.98762155 0.97966403 0.9770115  0.97435898 0.98320073 0.98673743\n",
      " 0.9805482  0.97524315 0.9893899  0.98143238 0.98585325 0.98762155\n",
      " 0.98673743 0.98762155 0.98762155 0.98320073 0.9770115  0.97789568\n",
      " 0.98231655 0.98673743 0.98850572 0.98673743 0.98231655 0.98762155\n",
      " 0.98231655 0.98320073 0.98850572 0.98143238 0.98585325 0.98231655]\n"
     ]
    }
   ],
   "source": [
    "print(np.asarray(train_history.history['val_accuracy']))"
   ]
  },
  {
   "cell_type": "code",
   "execution_count": 21,
   "metadata": {
    "scrolled": true
   },
   "outputs": [
    {
     "data": {
      "image/png": "[encoded data removed]",
      "text/plain": [
       "<Figure size 432x288 with 1 Axes>"
      ]
     },
     "metadata": {
      "needs_background": "light"
     },
     "output_type": "display_data"
    }
   ],
   "source": [
    "# 两个绘图\n",
    "def show_acc(train_history,train_acc,test_acc):\n",
    "    plt.plot(train_history.history[train_acc])\n",
    "    plt.plot(train_history.history[test_acc])\n",
    "    plt.title('accuracy')\n",
    "    plt.ylabel('Accuracy')\n",
    "    plt.xlabel('Epoch')\n",
    "    plt.legend(['train_acc','val_acc'], loc='upper left')\n",
    "    plt.show()\n",
    "    \n",
    "show_acc(train_history,'accuracy','val_accuracy')"
   ]
  },
  {
   "cell_type": "markdown",
   "metadata": {},
   "source": [
    "# 5. plot loss"
   ]
  },
  {
   "cell_type": "code",
   "execution_count": 22,
   "metadata": {
    "scrolled": true
   },
   "outputs": [
    {
     "data": {
      "image/png": "[encoded data removed]",
      "text/plain": [
       "<Figure size 432x288 with 1 Axes>"
      ]
     },
     "metadata": {
      "needs_background": "light"
     },
     "output_type": "display_data"
    }
   ],
   "source": [
    "import matplotlib.pyplot as plt\n",
    "def show_train_acc(train_history,train_acc):\n",
    "    plt.plot(train_history.history[train_acc])\n",
    "    plt.title('Loss')\n",
    "    plt.ylabel('loss')\n",
    "    plt.xlabel('Epoch')\n",
    "    plt.legend(['train_loss'], loc='upper left')\n",
    "    plt.show()\n",
    "    \n",
    "show_train_acc(train_history,'loss')"
   ]
  },
  {
   "cell_type": "code",
   "execution_count": 23,
   "metadata": {},
   "outputs": [
    {
     "name": "stdout",
     "output_type": "stream",
     "text": [
      "[0.63423319 0.37692213 0.31650507 0.29362839 0.26200312 0.2614029\n",
      " 0.23780553 0.22904947 0.22308763 0.21570583 0.21725738 0.24090231\n",
      " 0.20023816 0.19921469 0.19130033 0.1879536  0.18137285 0.18759694\n",
      " 0.20697379 0.18213746 0.17479399 0.17351842 0.17274172 0.16966414\n",
      " 0.17246031 0.16897244 0.16694749 0.16779117 0.15275744 0.15713654\n",
      " 0.15756519 0.1566667  0.15338388 0.14926513 0.14580769 0.14379452\n",
      " 0.14434023 0.13923647 0.13831114 0.14616098 0.13284842 0.13246235\n",
      " 0.12808391 0.12594025 0.1197333  0.11760034 0.11731369 0.11360504\n",
      " 0.11445781 0.10891562 0.10775523 0.10437038 0.10257915 0.10065532\n",
      " 0.11075353 0.09473434 0.094028   0.08885812 0.0922131  0.08970739\n",
      " 0.08730167 0.08536377 0.0851345  0.13513709 0.09540952 0.09054657\n",
      " 0.08470024 0.08158865 0.07799371 0.07711139 0.08107596 0.07327202\n",
      " 0.07796553 0.07550425 0.07807685 0.07590395 0.07744111 0.07037286\n",
      " 0.06635629 0.06657425 0.06958057 0.0653498  0.07306614 0.06775161\n",
      " 0.06462561 0.06297412 0.06917719 0.06179678 0.06250021 0.06260492]\n"
     ]
    }
   ],
   "source": [
    "print(np.asarray(train_history.history['loss']))"
   ]
  },
  {
   "cell_type": "code",
   "execution_count": 24,
   "metadata": {},
   "outputs": [
    {
     "data": {
      "image/png": "[encoded data removed]",
      "text/plain": [
       "<Figure size 432x288 with 1 Axes>"
      ]
     },
     "metadata": {
      "needs_background": "light"
     },
     "output_type": "display_data"
    }
   ],
   "source": [
    "import matplotlib.pyplot as plt\n",
    "def show_train_acc(train_history,train_acc):\n",
    "    plt.plot(train_history.history[train_acc])\n",
    "    plt.title('val_loss')\n",
    "    plt.ylabel('loss')\n",
    "    plt.xlabel('Epoch')\n",
    "    plt.legend(['val_loss'], loc='upper left')\n",
    "    plt.show()\n",
    "    \n",
    "show_train_acc(train_history,'val_loss')"
   ]
  },
  {
   "cell_type": "code",
   "execution_count": 25,
   "metadata": {},
   "outputs": [
    {
     "name": "stdout",
     "output_type": "stream",
     "text": [
      "[0.41388847 0.23616852 0.21974493 0.23069983 0.23176827 0.23610882\n",
      " 0.19354493 0.21086439 0.18544184 0.16961774 0.20021732 0.18660943\n",
      " 0.15857984 0.17050554 0.16260427 0.17239584 0.15330307 0.15601515\n",
      " 0.15932852 0.15291896 0.14195763 0.14724322 0.14239288 0.1686631\n",
      " 0.13192783 0.13375857 0.12811359 0.14425634 0.10995137 0.12587439\n",
      " 0.15534649 0.11740585 0.12275823 0.12212408 0.12663514 0.09210949\n",
      " 0.09587231 0.08458694 0.10554498 0.09301819 0.11391586 0.08230495\n",
      " 0.07620189 0.07107484 0.07447103 0.06741522 0.07463816 0.06536986\n",
      " 0.06805343 0.05858309 0.07140596 0.06542368 0.05743816 0.06143725\n",
      " 0.05589026 0.05308107 0.06218693 0.04429354 0.05427641 0.05097867\n",
      " 0.04623605 0.06126333 0.06861548 0.08263071 0.05739439 0.05256069\n",
      " 0.05722039 0.07194659 0.05227069 0.05667735 0.05001835 0.0474782\n",
      " 0.05257664 0.05283212 0.0427477  0.05008251 0.07736817 0.06618753\n",
      " 0.05000165 0.04828562 0.04487646 0.04342525 0.05154781 0.0478191\n",
      " 0.04799372 0.04585263 0.04472854 0.05903645 0.04441844 0.04611847]\n"
     ]
    }
   ],
   "source": [
    "print(np.asarray(train_history.history['val_loss']))"
   ]
  },
  {
   "cell_type": "code",
   "execution_count": 26,
   "metadata": {},
   "outputs": [
    {
     "data": {
      "image/png": "[encoded data removed]",
      "text/plain": [
       "<Figure size 432x288 with 1 Axes>"
      ]
     },
     "metadata": {
      "needs_background": "light"
     },
     "output_type": "display_data"
    }
   ],
   "source": [
    "\n",
    "def show_loss(train_history,train_acc,test_acc):\n",
    "    plt.plot(train_history.history[train_acc])\n",
    "    plt.plot(train_history.history[test_acc])\n",
    "    plt.title('Loss')\n",
    "    plt.ylabel('loss')\n",
    "    plt.xlabel('Epoch')\n",
    "    plt.legend(['train_loss','val_loss'], loc='upper left')\n",
    "    plt.show()\n",
    "    \n",
    "show_loss(train_history,'loss','val_loss')"
   ]
  },
  {
   "cell_type": "markdown",
   "metadata": {},
   "source": [
    "# 6.confuse matrix"
   ]
  },
  {
   "cell_type": "code",
   "execution_count": 27,
   "metadata": {},
   "outputs": [
    {
     "data": {
      "text/plain": [
       "(1131, 1)"
      ]
     },
     "execution_count": 27,
     "metadata": {},
     "output_type": "execute_result"
    }
   ],
   "source": [
    "prediction=model.predict_classes(test_X)\n",
    "prediction.shape"
   ]
  },
  {
   "cell_type": "code",
   "execution_count": 28,
   "metadata": {},
   "outputs": [
    {
     "data": {
      "text/plain": [
       "(1131, 1)"
      ]
     },
     "execution_count": 28,
     "metadata": {},
     "output_type": "execute_result"
    }
   ],
   "source": [
    "prediction_cls=model.predict(test_X)\n",
    "prediction_cls.shape"
   ]
  },
  {
   "cell_type": "code",
   "execution_count": null,
   "metadata": {},
   "outputs": [],
   "source": []
  },
  {
   "cell_type": "code",
   "execution_count": 29,
   "metadata": {},
   "outputs": [
    {
     "data": {
      "text/plain": [
       "(1131,)"
      ]
     },
     "execution_count": 29,
     "metadata": {},
     "output_type": "execute_result"
    }
   ],
   "source": [
    "import numpy as np\n",
    "test_y.shape\n",
    "# Convert from one-hot to normal np array\n",
    "test_label = [np.argmax(one_hot)for one_hot in test_y]\n",
    "test_label1=np.asarray(test_label)\n",
    "test_label1.shape"
   ]
  },
  {
   "cell_type": "code",
   "execution_count": 30,
   "metadata": {},
   "outputs": [
    {
     "data": {
      "text/plain": [
       "(1131,)"
      ]
     },
     "execution_count": 30,
     "metadata": {},
     "output_type": "execute_result"
    }
   ],
   "source": [
    "prediction2 = prediction.reshape(prediction.shape[0],)\n",
    "prediction2.shape"
   ]
  },
  {
   "cell_type": "code",
   "execution_count": 31,
   "metadata": {},
   "outputs": [
    {
     "name": "stdout",
     "output_type": "stream",
     "text": [
      "[0, 1, 3, 4, 5, 6, 7, 8, 9, 10, 11, 12, 13, 14, 15, 16, 17, 18, 19, 20, 21, 22, 23, 24, 25, 26, 27, 28, 29, 30, 31, 32, 33, 34, 35, 36, 37, 38, 39, 40, 41, 42, 43, 45, 47, 48, 49, 50, 51, 52, 53, 54, 55, 56, 57, 58, 59, 60, 61, 62, 63, 64, 65, 66, 67, 68, 69, 70, 71, 72, 73, 74, 75, 76, 77, 78, 79, 80, 81, 82, 83, 84, 85, 86, 87, 88, 89, 90, 91, 92, 93, 94, 95, 96, 97, 98, 101, 102, 103, 104, 105, 106, 107, 108, 109, 110, 111, 112, 113, 115, 116, 117, 118, 119, 120, 121, 122, 123, 124, 125, 126, 127, 128, 129, 130, 131, 132, 133, 134, 135, 136, 137, 138, 139, 140, 141, 142, 143, 144, 145, 146, 147, 148, 149, 150, 151, 152, 153, 154, 155, 156, 157, 158, 159, 160, 161, 162, 163, 164, 165, 166, 167, 168, 170, 171, 172, 173, 174, 175, 176, 178, 179, 180, 181, 182, 183, 184, 185, 186, 187, 190, 191, 192, 193, 194, 195, 196, 197, 198, 199, 200, 201, 202, 203, 204, 205, 206, 207, 208, 209, 210, 211, 213, 214, 215, 216, 217, 218, 219, 220, 221, 222, 223, 224, 225, 226, 227, 228, 229, 230, 231, 232, 234, 235, 236, 237, 238, 239, 240, 241, 242, 243, 244, 245, 246, 247, 248, 250, 251, 252, 253, 254, 255, 256, 260, 261, 262, 263, 264, 265, 266, 267, 268, 269, 270, 271, 272, 273, 274, 275, 276, 278, 279, 280, 281, 282, 283, 284, 285, 286, 287, 288, 289, 290, 291, 292, 293, 294, 295, 296, 297, 298, 299, 300, 301, 302, 303, 304, 305, 306, 529, 541, 1054]\n",
      "[2, 44, 46, 99, 100, 114, 169, 177, 188, 189, 212, 233, 249, 257, 258, 259, 277, 307, 308, 309, 310, 311, 312, 313, 314, 315, 316, 317, 318, 319, 320, 321, 322, 323, 324, 325, 326, 327, 328, 329, 330, 331, 332, 333, 334, 335, 336, 337, 338, 339, 340, 341, 342, 343, 344, 345, 346, 347, 348, 349, 350, 351, 352, 353, 354, 355, 356, 357, 358, 359, 360, 361, 362, 363, 364, 365, 366, 367, 368, 369, 370, 371, 372, 373, 374, 375, 376, 377, 378, 379, 380, 381, 382, 383, 384, 385, 386, 387, 388, 389, 390, 391, 392, 393, 394, 395, 396, 397, 398, 399, 400, 401, 402, 403, 404, 405, 406, 407, 408, 409, 410, 411, 412, 413, 414, 415, 416, 417, 418, 419, 420, 421, 422, 423, 424, 425, 426, 427, 428, 429, 430, 431, 432, 433, 434, 435, 436, 437, 438, 439, 440, 441, 442, 443, 444, 445, 446, 447, 448, 449, 450, 451, 452, 453, 454, 455, 456, 457, 458, 459, 460, 461, 462, 463, 464, 465, 466, 467, 468, 469, 470, 471, 472, 473, 474, 475, 476, 477, 478, 479, 480, 481, 482, 483, 484, 485, 486, 487, 488, 489, 490, 491, 492, 493, 494, 495, 496, 497, 498, 499, 500, 501, 502, 503, 504, 505, 506, 507, 508, 509, 510, 511, 512, 513, 514, 515, 516, 517, 518, 519, 520, 521, 522, 523, 524, 525, 526, 527, 528, 530, 531, 532, 533, 534, 535, 536, 537, 538, 539, 540, 542, 543, 544, 545, 546, 547, 548, 549, 550, 551, 552, 553, 554, 555, 556, 557, 558, 559, 560, 561, 562, 563, 564, 565, 566, 567, 568, 569, 570, 571, 572, 573, 574, 575, 576, 577, 578, 579, 580, 581, 582, 583, 584, 585, 586, 587, 588, 589, 590, 591, 592, 593, 594, 595, 596, 597, 598, 599, 600, 601, 602, 603, 604, 605, 606, 607, 608, 609, 610, 611, 612, 613, 614, 615, 616, 617, 618, 619, 620, 621, 622, 623, 624, 625, 626, 627, 628, 629, 630, 631, 632, 633, 634, 635, 636, 637, 638, 639, 640, 641, 642, 643, 644, 645, 646, 647, 648, 649, 650, 651, 652, 653, 654, 655, 656, 657, 658, 659, 660, 661, 662, 663, 664, 665, 666, 667, 668, 669, 670, 671, 672, 673, 674, 675, 676, 677, 678, 679, 680, 681, 682, 683, 684, 685, 686, 687, 688, 689, 690, 691, 692, 693, 694, 695, 696, 697, 698, 699, 700, 701, 702, 703, 704, 705, 706, 707, 708, 709, 710, 711, 712, 713, 714, 715, 716, 717, 718, 719, 720, 721, 722, 723, 724, 725, 726, 727, 728, 729, 730, 731, 732, 733, 734, 735, 736, 737, 738, 739, 740, 741, 742, 743, 744, 745, 746, 747, 748, 749, 750, 751, 752, 753, 754, 755, 756, 757, 758, 759, 760, 761, 762, 763, 764, 765, 766, 767, 768, 769, 770, 771, 772, 773, 774, 775, 776, 777, 778, 779, 780, 781, 782, 783, 784, 785, 786, 787, 788, 789, 790, 791, 792, 793, 794, 795, 796, 797, 798, 799, 800, 801, 802, 803, 804, 805, 806, 807, 808, 809, 810, 811, 812, 813, 814, 815, 816, 817, 818, 819, 820, 821, 822, 823, 824, 825, 826, 827, 828, 829, 830, 831, 832, 833, 834, 835, 836, 837, 838, 839, 840, 841, 842, 843, 844, 845, 846, 847, 848, 849, 850, 851, 852, 853, 854, 855, 856, 857, 858, 859, 860, 861, 862, 863, 864, 865, 866, 867, 868, 869, 870, 871, 872, 873, 874, 875, 876, 877, 878, 879, 880, 881, 882, 883, 884, 885, 886, 887, 888, 889, 890, 891, 892, 893, 894, 895, 896, 897, 898, 899, 900, 901, 902, 903, 904, 905, 906, 907, 908, 909, 910, 911, 912, 913, 914, 915, 916, 917, 918, 919, 920, 921, 922, 923, 924, 925, 926, 927, 928, 929, 930, 931, 932, 933, 934, 935, 936, 937, 938, 939, 940, 941, 942, 943, 944, 945, 946, 947, 948, 949, 950, 951, 952, 953, 954, 955, 956, 957, 958, 959, 960, 961, 962, 963, 964, 965, 966, 967, 968, 969, 970, 971, 972, 973, 974, 975, 976, 977, 978, 979, 980, 981, 982, 983, 984, 985, 986, 987, 988, 989, 990, 991, 992, 993, 994, 995, 996, 997, 998, 999, 1000, 1001, 1002, 1003, 1004, 1005, 1006, 1007, 1008, 1009, 1010, 1011, 1012, 1013, 1014, 1015, 1016, 1017, 1018, 1019, 1020, 1021, 1022, 1023, 1024, 1025, 1026, 1027, 1028, 1029, 1030, 1031, 1032, 1033, 1034, 1035, 1036, 1037, 1038, 1039, 1040, 1041, 1042, 1043, 1044, 1045, 1046, 1047, 1048, 1049, 1050, 1051, 1052, 1053, 1055, 1056, 1057, 1058, 1059, 1060, 1061, 1062, 1063, 1064, 1065, 1066, 1067, 1068, 1069, 1070, 1071, 1072, 1073, 1074, 1075, 1076, 1077, 1078, 1079, 1080, 1081, 1082, 1083, 1084, 1085, 1086, 1087, 1088, 1089, 1090, 1091, 1092, 1093, 1094, 1095, 1096, 1097, 1098, 1099, 1100, 1101, 1102, 1103, 1104, 1105, 1106, 1107, 1108, 1109, 1110, 1111, 1112, 1113, 1114, 1115, 1116, 1117, 1118, 1119, 1120, 1121, 1122, 1123, 1124, 1125, 1126, 1127, 1128, 1129, 1130]\n"
     ]
    }
   ],
   "source": [
    "# example\n",
    "import numpy as np\n",
    "\n",
    "n = len(prediction2)\n",
    "\n",
    "# 0. bad\n",
    "bad_indices = [i for i in range(n) if prediction2[i]==0] \n",
    "print(bad_indices)\n",
    "\n",
    "# 1. good\n",
    "good_indices = [i for i in range(n) if prediction2[i]==1] \n",
    "print(good_indices)"
   ]
  },
  {
   "cell_type": "code",
   "execution_count": 32,
   "metadata": {
    "scrolled": true
   },
   "outputs": [
    {
     "data": {
      "text/html": [
       "<div>\n",
       "<style scoped>\n",
       "    .dataframe tbody tr th:only-of-type {\n",
       "        vertical-align: middle;\n",
       "    }\n",
       "\n",
       "    .dataframe tbody tr th {\n",
       "        vertical-align: top;\n",
       "    }\n",
       "\n",
       "    .dataframe thead th {\n",
       "        text-align: right;\n",
       "    }\n",
       "</style>\n",
       "<table border=\"1\" class=\"dataframe\">\n",
       "  <thead>\n",
       "    <tr style=\"text-align: right;\">\n",
       "      <th>predict</th>\n",
       "      <th>0</th>\n",
       "      <th>1</th>\n",
       "    </tr>\n",
       "    <tr>\n",
       "      <th>label</th>\n",
       "      <th></th>\n",
       "      <th></th>\n",
       "    </tr>\n",
       "  </thead>\n",
       "  <tbody>\n",
       "    <tr>\n",
       "      <th>0</th>\n",
       "      <td>290</td>\n",
       "      <td>17</td>\n",
       "    </tr>\n",
       "    <tr>\n",
       "      <th>1</th>\n",
       "      <td>3</td>\n",
       "      <td>821</td>\n",
       "    </tr>\n",
       "  </tbody>\n",
       "</table>\n",
       "</div>"
      ],
      "text/plain": [
       "predict    0    1\n",
       "label            \n",
       "0        290   17\n",
       "1          3  821"
      ]
     },
     "execution_count": 32,
     "metadata": {},
     "output_type": "execute_result"
    }
   ],
   "source": [
    "# confuse matrix\n",
    "import pandas as pd\n",
    "pd.crosstab(test_label1,prediction2,\n",
    "            rownames=['label'],colnames=['predict'])"
   ]
  },
  {
   "cell_type": "markdown",
   "metadata": {},
   "source": [
    "# 7. save model"
   ]
  },
  {
   "cell_type": "code",
   "execution_count": 33,
   "metadata": {},
   "outputs": [],
   "source": [
    "mp = \"D:/jupyter/CNN_Vital108tf_sqi2111.h5\"\n",
    "model.save(mp)"
   ]
  },
  {
   "cell_type": "markdown",
   "metadata": {},
   "source": [
    "# 8. Metrics"
   ]
  },
  {
   "cell_type": "code",
   "execution_count": 34,
   "metadata": {},
   "outputs": [
    {
     "name": "stdout",
     "output_type": "stream",
     "text": [
      "confusion_matrix\n",
      " [[290  17]\n",
      " [  3 821]]\n",
      "accuracy:0.982316534040672\n",
      "precision:0.9797136038186157\n",
      "recall:0.9963592233009708\n",
      "f1-score:0.9879663056558363\n",
      "f1-score-for-each-class:(array([0.98976109, 0.9797136 ]), array([0.94462541, 0.99635922]), array([0.96666667, 0.98796631]), array([307, 824], dtype=int64))\n"
     ]
    }
   ],
   "source": [
    "from sklearn.metrics import confusion_matrix, precision_score, accuracy_score,recall_score, f1_score,roc_auc_score, precision_recall_fscore_support, roc_curve, classification_report\n",
    "\n",
    "y = test_label1\n",
    "y_score = prediction\n",
    "obj1 = confusion_matrix(y, y_score) #\n",
    "print('confusion_matrix\\n', obj1)\n",
    "\n",
    "print('accuracy:{}'.format(accuracy_score(y, y_score))) # \n",
    "# 'micro': Calculate metrics globally by counting the total true positives, false negatives and false positives\n",
    "# 'macro': Calculate metrics for each label, and find their unweighted mean. This does not take label imbalance into account\n",
    "print('precision:{}'.format(precision_score(y, y_score,average='binary'))) # macro  weighted\n",
    "print('recall:{}'.format(recall_score(y, y_score,average='binary')))\n",
    "print('f1-score:{}'.format(f1_score(y, y_score,average='binary')))\n",
    "print('f1-score-for-each-class:{}'.format(precision_recall_fscore_support(y, y_score))) # for macro"
   ]
  },
  {
   "cell_type": "code",
   "execution_count": 35,
   "metadata": {},
   "outputs": [
    {
     "name": "stdout",
     "output_type": "stream",
     "text": [
      "              precision    recall  f1-score   support\n",
      "\n",
      "           0      0.990     0.945     0.967       307\n",
      "           1      0.980     0.996     0.988       824\n",
      "\n",
      "    accuracy                          0.982      1131\n",
      "   macro avg      0.985     0.970     0.977      1131\n",
      "weighted avg      0.982     0.982     0.982      1131\n",
      "\n"
     ]
    }
   ],
   "source": [
    "# https://blog.csdn.net/weixin_43240818/article/details/88364755\n",
    "from sklearn.metrics import classification_report\n",
    "report_ANN = classification_report(y, y_score,digits=3)\n",
    "print(report_ANN)"
   ]
  },
  {
   "cell_type": "code",
   "execution_count": 36,
   "metadata": {},
   "outputs": [
    {
     "name": "stdout",
     "output_type": "stream",
     "text": [
      "AUC y_pred = proba: 0.9982448372916732\n",
      "one-hot label ravelled shape: (1131,)\n"
     ]
    },
    {
     "data": {
      "image/png": "[encoded data removed]",
      "text/plain": [
       "<Figure size 432x288 with 1 Axes>"
      ]
     },
     "metadata": {
      "needs_background": "light"
     },
     "output_type": "display_data"
    },
    {
     "name": "stdout",
     "output_type": "stream",
     "text": [
      "              precision    recall  f1-score   support\n",
      "\n",
      "           0      0.990     0.945     0.967       307\n",
      "           1      0.980     0.996     0.988       824\n",
      "\n",
      "    accuracy                          0.982      1131\n",
      "   macro avg      0.985     0.970     0.977      1131\n",
      "weighted avg      0.982     0.982     0.982      1131\n",
      "\n"
     ]
    }
   ],
   "source": [
    "# AUC value\n",
    "y_one_hot = test_y_num\n",
    "y_score_pro = prediction_cls\n",
    "auc = roc_auc_score(y_one_hot, y_score_pro,average='micro') # Using micro, n_classes roc curves will be calculated and averaged\n",
    "print(\"AUC y_pred = proba:\", auc)\n",
    "\n",
    "# Draw ROC curve\n",
    "print(\"one-hot label ravelled shape:\", y_one_hot.ravel().shape)\n",
    "fpr, tpr, thresholds = roc_curve(y_one_hot.ravel(),y_score_pro.ravel()) # \n",
    "#print(\"threshold： \", thresholds)\n",
    "plt.plot(fpr, tpr, linewidth = 2,label='AUC=%.3f' % auc)\n",
    "plt.plot([0,1],[0,1], 'k--') # Draw a straight line with y=x, the color and type of the line\n",
    "plt.axis([0,1.0,0,1.0]) # Limit the coordinate range\n",
    "plt.xlabel('False Postivie Rate')\n",
    "plt.ylabel('True Positive Rate')\n",
    "plt.legend()\n",
    "plt.show()\n",
    "\n",
    "ans = classification_report(y, y_score,digits=3) # Keep 3 significant digits after the decimal point\n",
    "print(ans)\n"
   ]
  },
  {
   "cell_type": "code",
   "execution_count": 37,
   "metadata": {
    "scrolled": false
   },
   "outputs": [
    {
     "name": "stdout",
     "output_type": "stream",
     "text": [
      "[0.         0.         0.         0.         0.         0.\n",
      " 0.         0.         0.         0.         0.         0.\n",
      " 0.         0.         0.         0.         0.         0.\n",
      " 0.         0.         0.         0.         0.         0.\n",
      " 0.         0.         0.         0.         0.         0.\n",
      " 0.         0.         0.         0.         0.         0.\n",
      " 0.         0.         0.         0.         0.         0.\n",
      " 0.         0.         0.         0.         0.         0.\n",
      " 0.         0.         0.         0.         0.         0.\n",
      " 0.         0.         0.         0.         0.         0.\n",
      " 0.         0.         0.         0.         0.         0.00325733\n",
      " 0.00325733 0.00651466 0.00651466 0.00977199 0.00977199 0.01302932\n",
      " 0.01302932 0.01628664 0.01628664 0.01954397 0.01954397 0.0228013\n",
      " 0.0228013  0.02605863 0.02605863 0.05211726 0.05211726 0.07166124\n",
      " 0.07166124 0.07491857 0.07491857 0.11074919 0.11074919 0.61889251\n",
      " 0.62540717 0.6286645  0.63517915 0.63843648 0.64495114 0.65472313\n",
      " 0.66775244 0.67100977 0.68403909 0.6970684  0.71009772 1.        ]\n"
     ]
    }
   ],
   "source": [
    "print(fpr)"
   ]
  },
  {
   "cell_type": "code",
   "execution_count": 38,
   "metadata": {},
   "outputs": [
    {
     "name": "stdout",
     "output_type": "stream",
     "text": [
      "[0.         0.00121359 0.01699029 0.02184466 0.02305825 0.02548544\n",
      " 0.0631068  0.06553398 0.10194175 0.10436893 0.10558252 0.10800971\n",
      " 0.13349515 0.13592233 0.13713592 0.13956311 0.16868932 0.1711165\n",
      " 0.17354369 0.17718447 0.19174757 0.19538835 0.19660194 0.19902913\n",
      " 0.20509709 0.20752427 0.20995146 0.21237864 0.21359223 0.21601942\n",
      " 0.22208738 0.22451456 0.24271845 0.24514563 0.27427184 0.27791262\n",
      " 0.28276699 0.28519417 0.32160194 0.32402913 0.3434466  0.34830097\n",
      " 0.36771845 0.37014563 0.37257282 0.375      0.37742718 0.37985437\n",
      " 0.44174757 0.44538835 0.4684466  0.47087379 0.54004854 0.54247573\n",
      " 0.55218447 0.55461165 0.55703883 0.55946602 0.57645631 0.5788835\n",
      " 0.63592233 0.63834951 0.81674757 0.81917476 0.83373786 0.83373786\n",
      " 0.85072816 0.85072816 0.93325243 0.93325243 0.9684466  0.9684466\n",
      " 0.9842233  0.9842233  0.98543689 0.98543689 0.98786408 0.98786408\n",
      " 0.99393204 0.99393204 0.99514563 0.99514563 0.99635922 0.99635922\n",
      " 0.99757282 0.99757282 0.99878641 0.99878641 1.         1.\n",
      " 1.         1.         1.         1.         1.         1.\n",
      " 1.         1.         1.         1.         1.         1.        ]\n"
     ]
    }
   ],
   "source": [
    "print(tpr)"
   ]
  }
 ],
 "metadata": {
  "kernelspec": {
   "display_name": "Python 3",
   "language": "python",
   "name": "python3"
  },
  "language_info": {
   "codemirror_mode": {
    "name": "ipython",
    "version": 3
   },
   "file_extension": ".py",
   "mimetype": "text/x-python",
   "name": "python",
   "nbconvert_exporter": "python",
   "pygments_lexer": "ipython3",
   "version": "3.7.6"
  }
 },
 "nbformat": 4,
 "nbformat_minor": 4
}
